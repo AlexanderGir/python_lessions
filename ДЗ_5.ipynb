{
  "nbformat": 4,
  "nbformat_minor": 0,
  "metadata": {
    "colab": {
      "name": "ДЗ 5.ipynb",
      "provenance": [],
      "authorship_tag": "ABX9TyOEdYoRwCeO3hg57wQ5namL",
      "include_colab_link": true
    },
    "kernelspec": {
      "name": "python3",
      "display_name": "Python 3"
    },
    "language_info": {
      "name": "python"
    }
  },
  "cells": [
    {
      "cell_type": "markdown",
      "metadata": {
        "id": "view-in-github",
        "colab_type": "text"
      },
      "source": [
        "<a href=\"https://colab.research.google.com/github/AlexanderGir/python_lessions/blob/Math-HW_3/%D0%94%D0%97_5.ipynb\" target=\"_parent\"><img src=\"https://colab.research.google.com/assets/colab-badge.svg\" alt=\"Open In Colab\"/></a>"
      ]
    },
    {
      "cell_type": "markdown",
      "metadata": {
        "id": "8Pf6NTgsSylL"
      },
      "source": [
        "**Задание 1**"
      ]
    },
    {
      "cell_type": "code",
      "metadata": {
        "colab": {
          "base_uri": "https://localhost:8080/"
        },
        "id": "6GgWBswNHeF3",
        "outputId": "8f0d4d30-a4b3-4a53-ce2b-cf32a7a70938"
      },
      "source": [
        "import numpy as np\n",
        "from random import randint\n",
        "\n",
        "\n",
        "class A:\n",
        "\n",
        "    def __init__(self):\n",
        "        self.reds = (1, 3, 5, 7, 9, 12, 14, 16, 18, 21, 23, 25, 27, 30, 32, 34, 36)\n",
        "        self.blacks = (2, 4, 6, 8, 10, 11, 13, 15, 17, 19, 20, 22, 24, 26, 28, 29, 31, 33, 35)\n",
        "\n",
        "    def b(self):\n",
        "        n = randint(0, 36)\n",
        "        inn = input('')\n",
        "        if n == 0:\n",
        "            print('zero')\n",
        "        elif n in self.reds:\n",
        "            print(n, 'красное')\n",
        "        elif n in self.blacks:\n",
        "            print(n, 'черное')\n",
        "\n",
        "r = A()\n",
        "print(r.b())"
      ],
      "execution_count": 33,
      "outputs": [
        {
          "output_type": "stream",
          "text": [
            "\n",
            "13 черное\n",
            "None\n"
          ],
          "name": "stdout"
        }
      ]
    },
    {
      "cell_type": "markdown",
      "metadata": {
        "id": "05nCpU_5XV_0"
      },
      "source": [
        "**Задание 2.1**\n"
      ]
    },
    {
      "cell_type": "code",
      "metadata": {
        "colab": {
          "base_uri": "https://localhost:8080/"
        },
        "id": "iEiaDsheL6qW",
        "outputId": "88e17dae-f464-414a-dcf6-b02a1ec84fde"
      },
      "source": [
        "%matplotlib inline\n",
        "import numpy as np\n",
        "\n",
        "a,b,c = 0, 0, 0\n",
        "n = 100\n",
        "for i in range(0,n):\n",
        "    x = np.random.uniform(0, 10)\n",
        "    c=c+1\n",
        "    if x < 5:\n",
        "      a = a + 1 \n",
        "    else: \n",
        "      b = b + 1\n",
        "\n",
        "if a+m == c:\n",
        "  print(True)\n",
        "else:\n",
        "  print(False)\n",
        "print(a,b,c)"
      ],
      "execution_count": 74,
      "outputs": [
        {
          "output_type": "stream",
          "text": [
            "False\n",
            "48 52 100\n"
          ],
          "name": "stdout"
        }
      ]
    },
    {
      "cell_type": "markdown",
      "metadata": {
        "id": "AIH8bV8zXg14"
      },
      "source": [
        "**Задание 2.2**"
      ]
    },
    {
      "cell_type": "code",
      "metadata": {
        "colab": {
          "base_uri": "https://localhost:8080/",
          "height": 313
        },
        "id": "nN5DM6LEXgFq",
        "outputId": "c61d905b-d2b1-4385-f47d-8b28f14c4385"
      },
      "source": [
        "%matplotlib inline\n",
        "import numpy as np\n",
        "import matplotlib.pyplot as plt\n",
        "import matplotlib.mlab as mlab\n",
        "\n",
        "summ = []\n",
        "for i in range(11):\n",
        "  x = np.random.rand(10)\n",
        "  summ.append(np.sum(x))\n",
        "  i += 1\n",
        "num = 10\n",
        "n, bins, patches = plt.hist(summ, num)\n",
        "plt.xlabel('Сумма')\n",
        "plt.ylabel('Вероятность')\n",
        "plt.title('Histogram')"
      ],
      "execution_count": 99,
      "outputs": [
        {
          "output_type": "execute_result",
          "data": {
            "text/plain": [
              "Text(0.5, 1.0, 'Histogram')"
            ]
          },
          "metadata": {
            "tags": []
          },
          "execution_count": 99
        },
        {
          "output_type": "display_data",
          "data": {
            "image/png": "[encoded data removed]",
            "text/plain": [
              "<Figure size 432x288 with 1 Axes>"
            ]
          },
          "metadata": {
            "tags": [],
            "needs_background": "light"
          }
        }
      ]
    },
    {
      "cell_type": "markdown",
      "metadata": {
        "id": "RNIk1xtlbIGi"
      },
      "source": [
        "**Задание 3.1**"
      ]
    },
    {
      "cell_type": "code",
      "metadata": {
        "colab": {
          "base_uri": "https://localhost:8080/"
        },
        "id": "EFJyp2ClZuvd",
        "outputId": "4ade2093-71f5-4ee3-d676-f1a5287bd5e5"
      },
      "source": [
        "import numpy as np\n",
        "import itertools\n",
        "import math\n",
        "import sys\n",
        "\n",
        "k, n = 0, 20\n",
        "a = np.random.randint(0, 2, n)\n",
        "b = np.random.randint(0, 2, n)\n",
        "c = np.random.randint(0, 2, n)\n",
        "d = np.random.randint(0, 2, n)\n",
        "x = a + b + c + d\n",
        "for i in range(0, n):\n",
        "    if x[i] == 0:\n",
        "        k = k + 1\n",
        "z = (math.factorial(n) / (math.factorial(k)) * (math.factorial(n - k)))        \n",
        "v = (0.5**k)*(0.5**(n-k))\n",
        "print(a, b, c, d)\n",
        "print(x)\n",
        "print(k, n, k/n, v, z)"
      ],
      "execution_count": 103,
      "outputs": [
        {
          "output_type": "stream",
          "text": [
            "[0 0 1 0 0 1 1 0 1 1 0 0 0 0 0 1 0 1 1 0] [1 1 0 1 0 1 0 0 1 1 0 1 1 0 0 0 1 0 0 0] [1 1 1 0 0 0 1 1 1 0 1 0 0 1 0 0 1 1 1 1] [1 1 0 1 1 1 0 1 0 1 0 0 1 1 0 0 0 1 1 0]\n",
            "[3 3 2 2 1 3 2 2 3 3 1 1 2 2 0 1 2 3 3 1]\n",
            "1 20 0.05 9.5367431640625e-07 2.9595060906949637e+35\n"
          ],
          "name": "stdout"
        }
      ]
    },
    {
      "cell_type": "markdown",
      "metadata": {
        "id": "R6Sj0iZreoRi"
      },
      "source": [
        "**Задание 3.2**"
      ]
    },
    {
      "cell_type": "code",
      "metadata": {
        "colab": {
          "base_uri": "https://localhost:8080/"
        },
        "id": "MSPeKV5NekgL",
        "outputId": "9fbe327b-a13e-4011-db95-f8a566862e94"
      },
      "source": [
        "import numpy as np\n",
        "import itertools\n",
        "import math\n",
        "import sys\n",
        "\n",
        "k, n = 2, 30\n",
        "a = np.random.randint(0, 2, n)\n",
        "b = np.random.randint(0, 2, n)\n",
        "c = np.random.randint(0, 2, n)\n",
        "d = np.random.randint(0, 2, n)\n",
        "x = a + b + c + d\n",
        "for i in range(0, n):\n",
        "    if x[i] == 0:\n",
        "        k = k + 1\n",
        "z = (math.factorial(n) / (math.factorial(k)) * (math.factorial(n - k)))        \n",
        "v=(0.5**k)*(0.5**(n-k))\n",
        "print(a, b, c, d)\n",
        "print(x)\n",
        "print(k, n, k/n,v, z)"
      ],
      "execution_count": 104,
      "outputs": [
        {
          "output_type": "stream",
          "text": [
            "[0 1 1 1 0 1 0 1 0 0 1 0 1 1 1 1 0 0 1 1 0 1 1 0 1 1 0 1 1 1] [1 0 0 0 0 0 1 1 1 0 1 0 1 0 1 1 0 0 1 1 0 1 1 1 1 0 0 0 1 0] [1 0 1 0 1 1 1 0 0 1 1 0 0 1 1 0 0 0 0 1 0 1 0 0 0 0 0 0 1 0] [0 0 0 0 0 1 0 0 1 1 0 0 0 1 1 0 0 0 1 0 0 1 0 1 0 1 0 0 0 1]\n",
            "[2 1 2 1 1 3 2 2 2 2 3 0 2 3 4 2 0 0 3 3 0 4 2 2 2 2 0 1 3 2]\n",
            "7 30 0.23333333333333334 9.313225746154785e-10 1.3605796372821177e+51\n"
          ],
          "name": "stdout"
        }
      ]
    }
  ]
}